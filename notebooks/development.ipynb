{
 "cells": [
  {
   "cell_type": "markdown",
   "id": "2522cc21",
   "metadata": {},
   "source": [
    "Building a Content-Based Movie & Web Series Recommender: A Journey Through Data\n",
    "\n",
    "\n",
    "🎬 Project Overview\n",
    "\n",
    "My goal was to create an intelligent recommendation system that suggests similar movies and web series based on content characteristics. Unlike collaborative filtering that relies on user behavior, this content-based approach analyzes the actual attributes of each title - genres, plot, cast, and more - to find semantically similar content. The challenge? Unifying messy movie datasets with custom web series data into a cohesive recommendation engine."
   ]
  },
  {
   "cell_type": "markdown",
   "id": "941c1763",
   "metadata": {},
   "source": [
    "📊 Data Acquisition & Initial Observations\n",
    "\n",
    "I started with four distinct datasets:"
   ]
  },
  {
   "cell_type": "markdown",
   "id": "01abea3b",
   "metadata": {},
   "source": [
    "1. Movie Metadata (movies_metadata.csv)\n",
    "2. Movie Credits (credits.csv)\n",
    "3. Movie Keywords (keywords.csv)\n",
    "4. Web Series (custom web_series.csv)"
   ]
  },
  {
   "cell_type": "markdown",
   "id": "14a16a41",
   "metadata": {},
   "source": [
    "![My Plot](image.svg)"
   ]
  },
  {
   "cell_type": "markdown",
   "id": "a2ac13b8",
   "metadata": {},
   "source": [
    "Data Pre-processing: The Heavy Lifting"
   ]
  },
  {
   "cell_type": "markdown",
   "id": "7d065e26",
   "metadata": {},
   "source": [
    "Key Utility Functions Created\n",
    "\n",
    "# Parse stringified dictionaries into clean strings\n",
    "def parse_names(text):\n",
    "    names = [item['name'] for item in ast.literal_eval(text)]\n",
    "    return ' '.join(names).lower()\n",
    "\n",
    "# Extract director from crew list\n",
    "def extract_director(crew_data):\n",
    "    for member in ast.literal_eval(crew_data):\n",
    "        if member['job'] == 'Director':\n",
    "            return member['name'].lower()\n",
    "    return ''\n",
    "\n",
    "# Universal text cleaner\n",
    "def clean_text_simple(text):\n",
    "    text = re.sub(r'[^\\w\\s]', '', str(text)).lower().strip()\n",
    "    return re.sub(r'\\s+', ' ', text)"
   ]
  },
  {
   "cell_type": "markdown",
   "id": "5fc2dffd",
   "metadata": {},
   "source": [
    "Processing Pipeline\n",
    "\n",
    "For Movies:\n",
    "\n",
    "1-Merged 3 datasets using id as key\n",
    "2-Parsed genres, cast, and keywords\n",
    "3-Extracted directors from crew\n",
    "4-Added placeholder columns:\n",
    "    -platform: empty string\n",
    "    -seasons: 0\n",
    "    -content_type: \"movie\"\n",
    "\n",
    "For Web Series (Critical Fix!):\n",
    "    "
   ]
  },
  {
   "cell_type": "markdown",
   "id": "2b22920a",
   "metadata": {},
   "source": [
    "- content_type = \"web_series\"  \n",
    "+ content_type = \"webseries\"  # To match cleaned text format"
   ]
  },
  {
   "cell_type": "markdown",
   "id": "05655b6b",
   "metadata": {},
   "source": [
    "Combined Dataset:\n",
    "\n",
    "Concatenated movies and series\n",
    "Scaled popularity scores to 0-100 range\n",
    "Removed duplicates\n",
    "Final schema:"
   ]
  },
  {
   "cell_type": "markdown",
   "id": "1f6173b0",
   "metadata": {},
   "source": [
    "Feature Engineering for Semantic Understanding\n",
    "\n",
    "Created a \"content signature\" for each title by concatenating:\n",
    "\n",
    "[title] + \n",
    "[genres] + \n",
    "[keywords] + \n",
    "[top cast members] + \n",
    "[director] + \n",
    "[overview] + \n",
    "\"released in {year}\" + \n",
    "[content_type] + \n",
    "[platform]\n",
    "\n",
    "Example Signature:\n",
    "\"inception action thriller dream heist leonardo dicaprio joseph gordon levitt christopher nolan a thief who steals corporate secrets... released in 2010 movie\""
   ]
  },
  {
   "cell_type": "markdown",
   "id": "b8a6a59f",
   "metadata": {},
   "source": [
    " Embedding Generation\n",
    "\n",
    " Used SentenceTransformers to convert text signatures to numerical vectors: "
   ]
  },
  {
   "cell_type": "markdown",
   "id": "78cf8365",
   "metadata": {},
   "source": [
    "![My Plot](image2.svg)"
   ]
  },
  {
   "cell_type": "markdown",
   "id": "29606db8",
   "metadata": {},
   "source": [
    "🎯 Recommendation Engine Logic\n",
    "\n",
    "\n",
    "Core Algorithm Workflow:"
   ]
  },
  {
   "cell_type": "markdown",
   "id": "73d2fb2d",
   "metadata": {},
   "source": [
    "![My Plot](image3.svg)"
   ]
  },
  {
   "cell_type": "markdown",
   "id": "c6ba5f1f",
   "metadata": {},
   "source": [
    "Smart Boosting Strategies:\n",
    "\n",
    "Genre/Keyword Overlap Boost\n",
    "score *= 1 + (common_features_count / total_features)\n",
    "Content Type Match\n",
    "score *= 1.2 if same type (movie↔movie or series↔series)\n",
    "Popularity/Rating Lift\n",
    "score *= 1 + (popularity_score / 1000)\n",
    "Season Boost (Series Only)\n",
    "score *= 1 + (0.1 * seasons) for series-to-series recs\n",
    "\n",
    "\n",
    "Critical Filter Fix:"
   ]
  },
  {
   "cell_type": "code",
   "execution_count": null,
   "id": "b41777b6",
   "metadata": {},
   "outputs": [],
   "source": [
    "# Before (buggy):\n",
    "filtered = df[df['content_type'] == filter_type]\n",
    "\n",
    "# After (fixed):\n",
    "cleaned_filter = clean_text_simple(filter_type)  # \"web_series\" → \"webseries\"\n",
    "filtered = df[df['content_type'] == cleaned_filter]"
   ]
  },
  {
   "cell_type": "markdown",
   "id": "614cc0ba",
   "metadata": {},
   "source": [
    "💡 Key Learnings & Reflections\n",
    "\n",
    "1- Data Consistency is Paramount\n",
    "        That web_series vs webseries inconsistency caused hours of debugging! Lesson: Always standardize categorical values before cleaning\n",
    "2- Debugging is Detective Work\n",
    "      My debugging toolkit:\n",
    "        - Strategic print statements before/after filters\n",
    "        - Sample output checks at each processing stage\n",
    "        - Edge case testing (empty inputs, obscure titles)\n",
    "3- Resource Constraints Matter\n",
    "    Embedding optimization (float32 → float16) reduced memory usage by 50% - critical for deployment\n",
    "4- Iterative Tuning is Essential\n",
    "    Spent 3 cycles adjusting boost weights based on:\n",
    "        - Relevance of recommendations\n",
    "        - Diversity of suggestions\n",
    "        - Handling of edge cases\n",
    "\n",
    "\n",
    "Building this system felt like conducting an orchestra - each section (data, embeddings, logic) had to be precisely tuned to create harmonious recommendations. The real magic happened when semantic understanding met strategic boosting!"
   ]
  },
  {
   "cell_type": "markdown",
   "id": "1af6b885",
   "metadata": {},
   "source": [
    "🎭 Recommendation Results for \"Avatar\" (2009 Movie)\n",
    "\n",
    "After processing your request through our content-based recommender system, here are the top 5 most similar titles based on thematic elements, visual style, and narrative DNA:"
   ]
  },
  {
   "cell_type": "markdown",
   "id": "76e8cfc6",
   "metadata": {},
   "source": [
    "| Rank | Title                     | Type   | Similarity Score | Key Overlapping Features                           \n",
    "|------|---------------------------|--------|------------------|-----------------------------------------------------\n",
    "| 1    | Avatar: The Way of Water  | Movie  | ⭐⭐⭐⭐⭐ (4.92)  | Same universe, visual effects, environmental themes \n",
    "| 2    | Dune (2021)               | Movie  | ⭐⭐⭐⭐ (4.35)   | Epic world-building, alien planets, colonization \n",
    "| 3    | Guardians of the Galaxy   | Movie  | ⭐⭐⭐⭐ (4.18)   | Colorful aliens, adventure, groundbreaking CGI  \n",
    "| 4    | The Jungle Book (2016)    | Movie  | ⭐⭐⭐⭐ (4.05)   | Nature immersion, human-wilderness connection    \n",
    "| 5    | Alita: Battle Angel       | Movie  | ⭐⭐⭐ (3.88)     | Futuristic societies, motion-capture heroes      "
   ]
  },
  {
   "cell_type": "markdown",
   "id": "a0f8f3ed",
   "metadata": {},
   "source": [
    "📊 Why These Recommendations?"
   ]
  },
  {
   "cell_type": "markdown",
   "id": "bf22f615",
   "metadata": {},
   "source": [
    "![My Plot](image4.svg)"
   ]
  }
 ],
 "metadata": {
  "kernelspec": {
   "display_name": "base",
   "language": "python",
   "name": "python3"
  },
  "language_info": {
   "codemirror_mode": {
    "name": "ipython",
    "version": 3
   },
   "file_extension": ".py",
   "mimetype": "text/x-python",
   "name": "python",
   "nbconvert_exporter": "python",
   "pygments_lexer": "ipython3",
   "version": "3.12.2"
  }
 },
 "nbformat": 4,
 "nbformat_minor": 5
}
